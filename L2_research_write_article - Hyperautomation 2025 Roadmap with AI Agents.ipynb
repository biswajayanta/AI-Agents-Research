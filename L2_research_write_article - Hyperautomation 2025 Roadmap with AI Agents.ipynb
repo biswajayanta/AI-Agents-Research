{
 "cells": [
  {
   "cell_type": "markdown",
   "metadata": {},
   "source": [
    "You can download the `requirements.txt` for this course from the workspace of this lab. `File --> Open...`"
   ]
  },
  {
   "cell_type": "markdown",
   "metadata": {},
   "source": [
    "# L2: Create Agents to Research and Write an Article\n",
    "\n",
    "In this lesson, you will be introduced to the foundational concepts of multi-agent systems and get an overview of the crewAI framework."
   ]
  },
  {
   "cell_type": "markdown",
   "metadata": {},
   "source": [
    "The libraries are already installed in the classroom. If you're running this notebook on your own machine, you can install the following:\n",
    "```Python\n",
    "!pip install crewai==0.28.8 crewai_tools==0.1.6 langchain_community==0.0.29\n",
    "```"
   ]
  },
  {
   "cell_type": "code",
   "execution_count": 15,
   "metadata": {
    "height": 64
   },
   "outputs": [],
   "source": [
    "# Warning control\n",
    "import warnings\n",
    "warnings.filterwarnings('ignore')"
   ]
  },
  {
   "cell_type": "markdown",
   "metadata": {},
   "source": [
    "- Import from the crewAI libray."
   ]
  },
  {
   "cell_type": "code",
   "execution_count": 16,
   "metadata": {
    "height": 30
   },
   "outputs": [],
   "source": [
    "from crewai import Agent, Task, Crew"
   ]
  },
  {
   "cell_type": "markdown",
   "metadata": {},
   "source": [
    "- As a LLM for your agents, you'll be using OpenAI's `gpt-3.5-turbo`.\n",
    "\n",
    "**Optional Note:** crewAI also allow other popular models to be used as a LLM for your Agents. You can see some of the examples at the [bottom of the notebook](#1)."
   ]
  },
  {
   "cell_type": "code",
   "execution_count": 17,
   "metadata": {
    "height": 98
   },
   "outputs": [],
   "source": [
    "import os\n",
    "from utils import get_openai_api_key\n",
    "\n",
    "openai_api_key = get_openai_api_key()\n",
    "os.environ[\"OPENAI_MODEL_NAME\"] = 'gpt-3.5-turbo'"
   ]
  },
  {
   "cell_type": "markdown",
   "metadata": {},
   "source": [
    "## Creating Agents\n",
    "\n",
    "- Define your Agents, and provide them a `role`, `goal` and `backstory`.\n",
    "- It has been seen that LLMs perform better when they are role playing."
   ]
  },
  {
   "cell_type": "markdown",
   "metadata": {},
   "source": [
    "### Agent: Planner\n",
    "\n",
    "**Note**: The benefit of using _multiple strings_ :\n",
    "```Python\n",
    "varname = \"line 1 of text\"\n",
    "          \"line 2 of text\"\n",
    "```\n",
    "\n",
    "versus the _triple quote docstring_:\n",
    "```Python\n",
    "varname = \"\"\"line 1 of text\n",
    "             line 2 of text\n",
    "          \"\"\"\n",
    "```\n",
    "is that it can avoid adding those whitespaces and newline characters, making it better formatted to be passed to the LLM."
   ]
  },
  {
   "cell_type": "code",
   "execution_count": 18,
   "metadata": {
    "height": 284
   },
   "outputs": [],
   "source": [
    "planner = Agent(\n",
    "    role=\"Content Planner\",\n",
    "    goal=\"Plan engaging and factually accurate content on {topic}\",\n",
    "    backstory=\"You're working on planning a blog article \"\n",
    "              \"about the topic: {topic}.\"\n",
    "              \"You collect information that helps the \"\n",
    "              \"audience learn something \"\n",
    "              \"and make informed decisions. \"\n",
    "              \"Your work is the basis for \"\n",
    "              \"the Content Writer to write an article on this topic.\"\n",
    "              \"Use references of new and existing players in this market.\"\n",
    "              \"Look for some common use cases.\",\n",
    "    allow_delegation=False,\n",
    "\tverbose=True\n",
    ")"
   ]
  },
  {
   "cell_type": "markdown",
   "metadata": {},
   "source": [
    "### Agent: Writer"
   ]
  },
  {
   "cell_type": "code",
   "execution_count": 19,
   "metadata": {
    "height": 403
   },
   "outputs": [],
   "source": [
    "writer = Agent(\n",
    "    role=\"Content Writer\",\n",
    "    goal=\"Write insightful and factually accurate \"\n",
    "         \"opinion piece about the topic: {topic}\",\n",
    "    backstory=\"You're working on a writing \"\n",
    "              \"a new opinion piece about the topic: {topic}. \"\n",
    "              \"You base your writing on the work of \"\n",
    "              \"the Content Planner, who provides an outline \"\n",
    "              \"and relevant context about the topic. \"\n",
    "              \"You follow the main objectives and \"\n",
    "              \"direction of the outline, \"\n",
    "              \"as provide by the Content Planner. \"\n",
    "              \"You also provide objective and impartial insights \"\n",
    "              \"and back them up with information \"\n",
    "              \"provide by the Content Planner. \"\n",
    "              \"You acknowledge in your opinion piece \"\n",
    "              \"when your statements are opinions \"\n",
    "              \"as opposed to objective statements.\"\n",
    "              \"Make use of the references and use cases in your article.\",\n",
    "    allow_delegation=False,\n",
    "    verbose=True\n",
    ")"
   ]
  },
  {
   "cell_type": "markdown",
   "metadata": {},
   "source": [
    "### Agent: Editor"
   ]
  },
  {
   "cell_type": "code",
   "execution_count": 20,
   "metadata": {
    "height": 284
   },
   "outputs": [],
   "source": [
    "editor = Agent(\n",
    "    role=\"Editor\",\n",
    "    goal=\"Edit a given blog post to align with \"\n",
    "         \"the writing style of the organization. \",\n",
    "    backstory=\"You are an editor who receives a blog post \"\n",
    "              \"from the Content Writer. \"\n",
    "              \"Your goal is to review the blog post \"\n",
    "              \"to ensure that it follows journalistic best practices,\"\n",
    "              \"provides balanced viewpoints \"\n",
    "              \"when providing opinions or assertions, \"\n",
    "              \"and also avoids major controversial topics \"\n",
    "              \"or opinions when possible.\",\n",
    "    allow_delegation=False,\n",
    "    verbose=True\n",
    ")"
   ]
  },
  {
   "cell_type": "markdown",
   "metadata": {},
   "source": [
    "## Creating Tasks\n",
    "\n",
    "- Define your Tasks, and provide them a `description`, `expected_output` and `agent`."
   ]
  },
  {
   "cell_type": "markdown",
   "metadata": {},
   "source": [
    "### Task: Plan"
   ]
  },
  {
   "cell_type": "code",
   "execution_count": 21,
   "metadata": {
    "height": 284
   },
   "outputs": [],
   "source": [
    "plan = Task(\n",
    "    description=(\n",
    "        \"1. Prioritize the latest trends, key players, \"\n",
    "            \"and noteworthy news on {topic}.\\n\"\n",
    "        \"2. Identify the target audience, considering \"\n",
    "            \"their interests and pain points.\\n\"\n",
    "        \"3. Develop a detailed content outline including \"\n",
    "            \"an introduction, key points, and a call to action.\\n\"\n",
    "        \"4. Include SEO keywords and relevant data or sources.\"\n",
    "    ),\n",
    "    expected_output=\"A comprehensive content plan document \"\n",
    "        \"with an outline, audience analysis, \"\n",
    "        \"SEO keywords, and resources.\",\n",
    "    agent=planner,\n",
    ")"
   ]
  },
  {
   "cell_type": "markdown",
   "metadata": {},
   "source": [
    "### Task: Write"
   ]
  },
  {
   "cell_type": "code",
   "execution_count": 22,
   "metadata": {
    "height": 319
   },
   "outputs": [],
   "source": [
    "write = Task(\n",
    "    description=(\n",
    "        \"1. Use the content plan to craft a compelling \"\n",
    "            \"blog post on {topic}.\\n\"\n",
    "        \"2. Incorporate SEO keywords naturally.\\n\"\n",
    "\t\t\"3. Sections/Subtitles are properly named \"\n",
    "            \"in an engaging manner.\\n\"\n",
    "        \"4. Ensure the post is structured with an \"\n",
    "            \"engaging introduction, insightful body, \"\n",
    "            \"and a summarizing conclusion.\\n\"\n",
    "        \"5. Proofread for grammatical errors and \"\n",
    "            \"alignment with the brand's voice.\\n\"\n",
    "    ),\n",
    "    expected_output=\"A well-written blog post \"\n",
    "        \"in markdown format, ready for publication, \"\n",
    "        \"each section should have 2 or 3 paragraphs.\",\n",
    "    agent=writer,\n",
    ")"
   ]
  },
  {
   "cell_type": "markdown",
   "metadata": {},
   "source": [
    "### Task: Edit"
   ]
  },
  {
   "cell_type": "code",
   "execution_count": 23,
   "metadata": {
    "height": 182
   },
   "outputs": [],
   "source": [
    "edit = Task(\n",
    "    description=(\"Proofread the given blog post for \"\n",
    "                 \"grammatical errors and \"\n",
    "                 \"alignment with the brand's voice.\"),\n",
    "    expected_output=\"A well-written blog post in markdown format, \"\n",
    "                    \"ready for publication, \"\n",
    "                    \"each section should have 2 or 3 paragraphs.\",\n",
    "    agent=editor\n",
    ")"
   ]
  },
  {
   "cell_type": "markdown",
   "metadata": {},
   "source": [
    "## Creating the Crew\n",
    "\n",
    "- Create your crew of Agents\n",
    "- Pass the tasks to be performed by those agents.\n",
    "    - **Note**: *For this simple example*, the tasks will be performed sequentially (i.e they are dependent on each other), so the _order_ of the task in the list _matters_.\n",
    "- `verbose=2` allows you to see all the logs of the execution. "
   ]
  },
  {
   "cell_type": "code",
   "execution_count": 24,
   "metadata": {
    "height": 98
   },
   "outputs": [
    {
     "name": "stderr",
     "output_type": "stream",
     "text": [
      "2024-11-14 05:08:13,984 - 140575900203904 - __init__.py-__init__:518 - WARNING: Overriding of current TracerProvider is not allowed\n"
     ]
    }
   ],
   "source": [
    "crew = Crew(\n",
    "    agents=[planner, writer, editor],\n",
    "    tasks=[plan, write, edit],\n",
    "    verbose=2\n",
    ")"
   ]
  },
  {
   "cell_type": "markdown",
   "metadata": {},
   "source": [
    "## Running the Crew"
   ]
  },
  {
   "cell_type": "markdown",
   "metadata": {},
   "source": [
    "**Note**: LLMs can provide different outputs for they same input, so what you get might be different than what you see in the video."
   ]
  },
  {
   "cell_type": "code",
   "execution_count": null,
   "metadata": {
    "height": 46
   },
   "outputs": [],
   "source": [
    "result = crew.kickoff(inputs={\"topic\": \"Artificial Intelligence\"})"
   ]
  },
  {
   "cell_type": "markdown",
   "metadata": {},
   "source": [
    "- Display the results of your execution as markdown in the notebook."
   ]
  },
  {
   "cell_type": "code",
   "execution_count": 26,
   "metadata": {
    "height": 47
   },
   "outputs": [
    {
     "data": {
      "text/markdown": [
       "# HyperAutomation Roadmap for 2025 with AI Agents\n",
       "\n",
       "In today's rapidly evolving business landscape, the concept of HyperAutomation has emerged as a game-changer for organizations looking to enhance operational efficiency and drive innovation. HyperAutomation refers to the integration of advanced technologies such as artificial intelligence (AI), robotic process automation (RPA), machine learning, and intelligent decision-making to automate complex business processes. This holistic approach not only streamlines operations but also enables businesses to make data-driven decisions at scale. The significance of HyperAutomation lies in its ability to transform traditional workflows and unlock new opportunities for growth and competitiveness.\n",
       "\n",
       "AI Agents play a crucial role in the HyperAutomation ecosystem by acting as intelligent virtual assistants that can perform tasks, make recommendations, and interact with users in a human-like manner. These AI-driven technologies leverage natural language processing, computer vision, and predictive analytics to automate repetitive tasks, optimize workflows, and enhance decision-making processes. By harnessing the power of AI Agents, organizations can achieve greater productivity, accuracy, and agility in their operations.\n",
       "\n",
       "Looking ahead to the HyperAutomation roadmap for 2025, we can expect to see a continued focus on integrating AI-driven technologies into automation processes. The latest trends in HyperAutomation include the adoption of advanced analytics and machine learning algorithms to enable end-to-end process automation and intelligent decision-making. Leading players in the industry, such as UiPath, Automation Anywhere, and IBM Watson, are at the forefront of developing innovative solutions that drive HyperAutomation initiatives and empower businesses to thrive in a digital-first world.\n",
       "\n",
       "As we move towards 2025, businesses can benefit from the latest advancements in HyperAutomation by leveraging intelligent automation strategies, cognitive automation solutions, and RPA trends. With the integration of AI Agents into their workflows, organizations can streamline operations, reduce costs, and accelerate innovation. By staying abreast of industry developments and partnering with key players in the HyperAutomation space, businesses can position themselves for success in an increasingly competitive marketplace.\n",
       "\n",
       "In conclusion, the HyperAutomation roadmap for 2025 with AI Agents presents a wealth of opportunities for businesses to transform their operations and drive sustainable growth. By embracing the latest trends, collaborating with key players, and harnessing the power of AI-driven technologies, organizations can unlock new possibilities and create a competitive advantage in the digital era. As we look towards the future, it is clear that HyperAutomation will continue to revolutionize the way businesses operate and pave the way for a more efficient and intelligent workforce."
      ],
      "text/plain": [
       "<IPython.core.display.Markdown object>"
      ]
     },
     "execution_count": 26,
     "metadata": {},
     "output_type": "execute_result"
    }
   ],
   "source": [
    "from IPython.display import Markdown\n",
    "Markdown(result)"
   ]
  },
  {
   "cell_type": "markdown",
   "metadata": {},
   "source": [
    "## Try it Yourself\n",
    "\n",
    "- Pass in a topic of your choice and see what the agents come up with!"
   ]
  },
  {
   "cell_type": "code",
   "execution_count": 25,
   "metadata": {
    "height": 47
   },
   "outputs": [
    {
     "name": "stdout",
     "output_type": "stream",
     "text": [
      "\u001b[1m\u001b[95m [DEBUG]: == Working Agent: Content Planner\u001b[00m\n",
      "\u001b[1m\u001b[95m [INFO]: == Starting Task: 1. Prioritize the latest trends, key players, and noteworthy news on HyperAutomation Roadmap for 2025 with AI Agents.\n",
      "2. Identify the target audience, considering their interests and pain points.\n",
      "3. Develop a detailed content outline including an introduction, key points, and a call to action.\n",
      "4. Include SEO keywords and relevant data or sources.\u001b[00m\n",
      "\n",
      "\n",
      "\u001b[1m> Entering new CrewAgentExecutor chain...\u001b[0m\n",
      "\u001b[32;1m\u001b[1;3mI now can give a great answer\n",
      "\n",
      "Final Answer:\n",
      "Content Plan:\n",
      "\n",
      "Title: HyperAutomation Roadmap for 2025 with AI Agents\n",
      "\n",
      "Introduction:\n",
      "- Define HyperAutomation and its significance in the business world\n",
      "- Brief overview of AI Agents and their role in HyperAutomation\n",
      "- Preview of the roadmap for 2025 and the potential impact on businesses\n",
      "\n",
      "Key Points:\n",
      "1. Latest Trends:\n",
      "- Integration of AI-driven technologies in HyperAutomation processes\n",
      "- Adoption of advanced analytics and machine learning algorithms\n",
      "- Focus on end-to-end process automation and intelligent decision-making\n",
      "\n",
      "2. Key Players:\n",
      "- UiPath: Leading provider of robotic process automation (RPA) solutions\n",
      "- Automation Anywhere: Offering a comprehensive platform for HyperAutomation\n",
      "- IBM Watson: Leveraging AI for cognitive automation and predictive analytics\n",
      "\n",
      "3. Noteworthy News:\n",
      "- Microsoft's acquisition of Softomotive to enhance its RPA capabilities\n",
      "- Google's investment in AI-powered automation tools for businesses\n",
      "- Salesforce's partnership with UiPath to drive HyperAutomation initiatives\n",
      "\n",
      "4. Target Audience:\n",
      "- Business executives and decision-makers looking to streamline operations\n",
      "- IT professionals interested in implementing HyperAutomation solutions\n",
      "- Entrepreneurs seeking to leverage AI Agents for competitive advantage\n",
      "\n",
      "5. Audience Analysis:\n",
      "- Interests: Efficiency, cost-effectiveness, innovation, and automation technologies\n",
      "- Pain Points: Legacy systems, manual processes, data silos, and lack of scalability\n",
      "\n",
      "6. Content Outline:\n",
      "- Introduction to HyperAutomation and AI Agents\n",
      "- Latest trends in HyperAutomation for 2025\n",
      "- Overview of key players and their offerings\n",
      "- Noteworthy news and industry developments\n",
      "- Common use cases and success stories\n",
      "- Future outlook and recommendations for businesses\n",
      "- Call to action for exploring HyperAutomation solutions\n",
      "\n",
      "7. SEO Keywords:\n",
      "- HyperAutomation 2025\n",
      "- AI Agents roadmap\n",
      "- RPA trends\n",
      "- Intelligent automation strategies\n",
      "- Cognitive automation solutions\n",
      "\n",
      "8. Resources:\n",
      "- Gartner's HyperAutomation report\n",
      "- Forrester's AI Agents market analysis\n",
      "- Industry reports and case studies\n",
      "- Vendor websites and press releases\n",
      "\n",
      "By following this comprehensive content plan, the blog article on HyperAutomation Roadmap for 2025 with AI Agents will provide valuable insights for the target audience and drive engagement with factually accurate information.\u001b[0m\n",
      "\n",
      "\u001b[1m> Finished chain.\u001b[0m\n",
      "\u001b[1m\u001b[92m [DEBUG]: == [Content Planner] Task output: Content Plan:\n",
      "\n",
      "Title: HyperAutomation Roadmap for 2025 with AI Agents\n",
      "\n",
      "Introduction:\n",
      "- Define HyperAutomation and its significance in the business world\n",
      "- Brief overview of AI Agents and their role in HyperAutomation\n",
      "- Preview of the roadmap for 2025 and the potential impact on businesses\n",
      "\n",
      "Key Points:\n",
      "1. Latest Trends:\n",
      "- Integration of AI-driven technologies in HyperAutomation processes\n",
      "- Adoption of advanced analytics and machine learning algorithms\n",
      "- Focus on end-to-end process automation and intelligent decision-making\n",
      "\n",
      "2. Key Players:\n",
      "- UiPath: Leading provider of robotic process automation (RPA) solutions\n",
      "- Automation Anywhere: Offering a comprehensive platform for HyperAutomation\n",
      "- IBM Watson: Leveraging AI for cognitive automation and predictive analytics\n",
      "\n",
      "3. Noteworthy News:\n",
      "- Microsoft's acquisition of Softomotive to enhance its RPA capabilities\n",
      "- Google's investment in AI-powered automation tools for businesses\n",
      "- Salesforce's partnership with UiPath to drive HyperAutomation initiatives\n",
      "\n",
      "4. Target Audience:\n",
      "- Business executives and decision-makers looking to streamline operations\n",
      "- IT professionals interested in implementing HyperAutomation solutions\n",
      "- Entrepreneurs seeking to leverage AI Agents for competitive advantage\n",
      "\n",
      "5. Audience Analysis:\n",
      "- Interests: Efficiency, cost-effectiveness, innovation, and automation technologies\n",
      "- Pain Points: Legacy systems, manual processes, data silos, and lack of scalability\n",
      "\n",
      "6. Content Outline:\n",
      "- Introduction to HyperAutomation and AI Agents\n",
      "- Latest trends in HyperAutomation for 2025\n",
      "- Overview of key players and their offerings\n",
      "- Noteworthy news and industry developments\n",
      "- Common use cases and success stories\n",
      "- Future outlook and recommendations for businesses\n",
      "- Call to action for exploring HyperAutomation solutions\n",
      "\n",
      "7. SEO Keywords:\n",
      "- HyperAutomation 2025\n",
      "- AI Agents roadmap\n",
      "- RPA trends\n",
      "- Intelligent automation strategies\n",
      "- Cognitive automation solutions\n",
      "\n",
      "8. Resources:\n",
      "- Gartner's HyperAutomation report\n",
      "- Forrester's AI Agents market analysis\n",
      "- Industry reports and case studies\n",
      "- Vendor websites and press releases\n",
      "\n",
      "By following this comprehensive content plan, the blog article on HyperAutomation Roadmap for 2025 with AI Agents will provide valuable insights for the target audience and drive engagement with factually accurate information.\n",
      "\n",
      "\u001b[00m\n",
      "\u001b[1m\u001b[95m [DEBUG]: == Working Agent: Content Writer\u001b[00m\n",
      "\u001b[1m\u001b[95m [INFO]: == Starting Task: 1. Use the content plan to craft a compelling blog post on HyperAutomation Roadmap for 2025 with AI Agents.\n",
      "2. Incorporate SEO keywords naturally.\n",
      "3. Sections/Subtitles are properly named in an engaging manner.\n",
      "4. Ensure the post is structured with an engaging introduction, insightful body, and a summarizing conclusion.\n",
      "5. Proofread for grammatical errors and alignment with the brand's voice.\n",
      "\u001b[00m\n",
      "\n",
      "\n",
      "\u001b[1m> Entering new CrewAgentExecutor chain...\u001b[0m\n",
      "\u001b[32;1m\u001b[1;3mI now can give a great answer\n",
      "\n",
      "Final Answer: \n",
      "\n",
      "# HyperAutomation Roadmap for 2025 with AI Agents\n",
      "\n",
      "In today's rapidly evolving business landscape, the concept of HyperAutomation has emerged as a game-changer for organizations looking to enhance operational efficiency and drive innovation. HyperAutomation refers to the integration of advanced technologies such as artificial intelligence (AI), robotic process automation (RPA), machine learning, and intelligent decision-making to automate complex business processes. This holistic approach not only streamlines operations but also enables businesses to make data-driven decisions at scale. The significance of HyperAutomation lies in its ability to transform traditional workflows and unlock new opportunities for growth and competitiveness.\n",
      "\n",
      "AI Agents play a crucial role in the HyperAutomation ecosystem by acting as intelligent virtual assistants that can perform tasks, make recommendations, and interact with users in a human-like manner. These AI-driven technologies leverage natural language processing, computer vision, and predictive analytics to automate repetitive tasks, optimize workflows, and enhance decision-making processes. By harnessing the power of AI Agents, organizations can achieve greater productivity, accuracy, and agility in their operations.\n",
      "\n",
      "Looking ahead to the HyperAutomation roadmap for 2025, we can expect to see a continued focus on integrating AI-driven technologies into automation processes. The latest trends in HyperAutomation include the adoption of advanced analytics and machine learning algorithms to enable end-to-end process automation and intelligent decision-making. Leading players in the industry, such as UiPath, Automation Anywhere, and IBM Watson, are at the forefront of developing innovative solutions that drive HyperAutomation initiatives and empower businesses to thrive in a digital-first world.\n",
      "\n",
      "As we move towards 2025, businesses can benefit from the latest advancements in HyperAutomation by leveraging intelligent automation strategies, cognitive automation solutions, and RPA trends. With the integration of AI Agents into their workflows, organizations can streamline operations, reduce costs, and accelerate innovation. By staying abreast of industry developments and partnering with key players in the HyperAutomation space, businesses can position themselves for success in an increasingly competitive marketplace.\n",
      "\n",
      "In conclusion, the HyperAutomation roadmap for 2025 with AI Agents presents a wealth of opportunities for businesses to transform their operations and drive sustainable growth. By embracing the latest trends, collaborating with key players, and harnessing the power of AI-driven technologies, organizations can unlock new possibilities and create a competitive advantage in the digital era. As we look towards the future, it is clear that HyperAutomation will continue to revolutionize the way businesses operate and pave the way for a more efficient and intelligent workforce.\u001b[0m\n",
      "\n",
      "\u001b[1m> Finished chain.\u001b[0m\n",
      "\u001b[1m\u001b[92m [DEBUG]: == [Content Writer] Task output: # HyperAutomation Roadmap for 2025 with AI Agents\n",
      "\n",
      "In today's rapidly evolving business landscape, the concept of HyperAutomation has emerged as a game-changer for organizations looking to enhance operational efficiency and drive innovation. HyperAutomation refers to the integration of advanced technologies such as artificial intelligence (AI), robotic process automation (RPA), machine learning, and intelligent decision-making to automate complex business processes. This holistic approach not only streamlines operations but also enables businesses to make data-driven decisions at scale. The significance of HyperAutomation lies in its ability to transform traditional workflows and unlock new opportunities for growth and competitiveness.\n",
      "\n",
      "AI Agents play a crucial role in the HyperAutomation ecosystem by acting as intelligent virtual assistants that can perform tasks, make recommendations, and interact with users in a human-like manner. These AI-driven technologies leverage natural language processing, computer vision, and predictive analytics to automate repetitive tasks, optimize workflows, and enhance decision-making processes. By harnessing the power of AI Agents, organizations can achieve greater productivity, accuracy, and agility in their operations.\n",
      "\n",
      "Looking ahead to the HyperAutomation roadmap for 2025, we can expect to see a continued focus on integrating AI-driven technologies into automation processes. The latest trends in HyperAutomation include the adoption of advanced analytics and machine learning algorithms to enable end-to-end process automation and intelligent decision-making. Leading players in the industry, such as UiPath, Automation Anywhere, and IBM Watson, are at the forefront of developing innovative solutions that drive HyperAutomation initiatives and empower businesses to thrive in a digital-first world.\n",
      "\n",
      "As we move towards 2025, businesses can benefit from the latest advancements in HyperAutomation by leveraging intelligent automation strategies, cognitive automation solutions, and RPA trends. With the integration of AI Agents into their workflows, organizations can streamline operations, reduce costs, and accelerate innovation. By staying abreast of industry developments and partnering with key players in the HyperAutomation space, businesses can position themselves for success in an increasingly competitive marketplace.\n",
      "\n",
      "In conclusion, the HyperAutomation roadmap for 2025 with AI Agents presents a wealth of opportunities for businesses to transform their operations and drive sustainable growth. By embracing the latest trends, collaborating with key players, and harnessing the power of AI-driven technologies, organizations can unlock new possibilities and create a competitive advantage in the digital era. As we look towards the future, it is clear that HyperAutomation will continue to revolutionize the way businesses operate and pave the way for a more efficient and intelligent workforce.\n",
      "\n",
      "\u001b[00m\n",
      "\u001b[1m\u001b[95m [DEBUG]: == Working Agent: Editor\u001b[00m\n",
      "\u001b[1m\u001b[95m [INFO]: == Starting Task: Proofread the given blog post for grammatical errors and alignment with the brand's voice.\u001b[00m\n",
      "\n",
      "\n",
      "\u001b[1m> Entering new CrewAgentExecutor chain...\u001b[0m\n"
     ]
    },
    {
     "name": "stdout",
     "output_type": "stream",
     "text": [
      "\u001b[32;1m\u001b[1;3mI now can give a great answer\n",
      "\n",
      "Final Answer:\n",
      "# HyperAutomation Roadmap for 2025 with AI Agents\n",
      "\n",
      "In today's rapidly evolving business landscape, the concept of HyperAutomation has emerged as a game-changer for organizations looking to enhance operational efficiency and drive innovation. HyperAutomation refers to the integration of advanced technologies such as artificial intelligence (AI), robotic process automation (RPA), machine learning, and intelligent decision-making to automate complex business processes. This holistic approach not only streamlines operations but also enables businesses to make data-driven decisions at scale. The significance of HyperAutomation lies in its ability to transform traditional workflows and unlock new opportunities for growth and competitiveness.\n",
      "\n",
      "AI Agents play a crucial role in the HyperAutomation ecosystem by acting as intelligent virtual assistants that can perform tasks, make recommendations, and interact with users in a human-like manner. These AI-driven technologies leverage natural language processing, computer vision, and predictive analytics to automate repetitive tasks, optimize workflows, and enhance decision-making processes. By harnessing the power of AI Agents, organizations can achieve greater productivity, accuracy, and agility in their operations.\n",
      "\n",
      "Looking ahead to the HyperAutomation roadmap for 2025, we can expect to see a continued focus on integrating AI-driven technologies into automation processes. The latest trends in HyperAutomation include the adoption of advanced analytics and machine learning algorithms to enable end-to-end process automation and intelligent decision-making. Leading players in the industry, such as UiPath, Automation Anywhere, and IBM Watson, are at the forefront of developing innovative solutions that drive HyperAutomation initiatives and empower businesses to thrive in a digital-first world.\n",
      "\n",
      "As we move towards 2025, businesses can benefit from the latest advancements in HyperAutomation by leveraging intelligent automation strategies, cognitive automation solutions, and RPA trends. With the integration of AI Agents into their workflows, organizations can streamline operations, reduce costs, and accelerate innovation. By staying abreast of industry developments and partnering with key players in the HyperAutomation space, businesses can position themselves for success in an increasingly competitive marketplace.\n",
      "\n",
      "In conclusion, the HyperAutomation roadmap for 2025 with AI Agents presents a wealth of opportunities for businesses to transform their operations and drive sustainable growth. By embracing the latest trends, collaborating with key players, and harnessing the power of AI-driven technologies, organizations can unlock new possibilities and create a competitive advantage in the digital era. As we look towards the future, it is clear that HyperAutomation will continue to revolutionize the way businesses operate and pave the way for a more efficient and intelligent workforce.\u001b[0m\n",
      "\n",
      "\u001b[1m> Finished chain.\u001b[0m\n",
      "\u001b[1m\u001b[92m [DEBUG]: == [Editor] Task output: # HyperAutomation Roadmap for 2025 with AI Agents\n",
      "\n",
      "In today's rapidly evolving business landscape, the concept of HyperAutomation has emerged as a game-changer for organizations looking to enhance operational efficiency and drive innovation. HyperAutomation refers to the integration of advanced technologies such as artificial intelligence (AI), robotic process automation (RPA), machine learning, and intelligent decision-making to automate complex business processes. This holistic approach not only streamlines operations but also enables businesses to make data-driven decisions at scale. The significance of HyperAutomation lies in its ability to transform traditional workflows and unlock new opportunities for growth and competitiveness.\n",
      "\n",
      "AI Agents play a crucial role in the HyperAutomation ecosystem by acting as intelligent virtual assistants that can perform tasks, make recommendations, and interact with users in a human-like manner. These AI-driven technologies leverage natural language processing, computer vision, and predictive analytics to automate repetitive tasks, optimize workflows, and enhance decision-making processes. By harnessing the power of AI Agents, organizations can achieve greater productivity, accuracy, and agility in their operations.\n",
      "\n",
      "Looking ahead to the HyperAutomation roadmap for 2025, we can expect to see a continued focus on integrating AI-driven technologies into automation processes. The latest trends in HyperAutomation include the adoption of advanced analytics and machine learning algorithms to enable end-to-end process automation and intelligent decision-making. Leading players in the industry, such as UiPath, Automation Anywhere, and IBM Watson, are at the forefront of developing innovative solutions that drive HyperAutomation initiatives and empower businesses to thrive in a digital-first world.\n",
      "\n",
      "As we move towards 2025, businesses can benefit from the latest advancements in HyperAutomation by leveraging intelligent automation strategies, cognitive automation solutions, and RPA trends. With the integration of AI Agents into their workflows, organizations can streamline operations, reduce costs, and accelerate innovation. By staying abreast of industry developments and partnering with key players in the HyperAutomation space, businesses can position themselves for success in an increasingly competitive marketplace.\n",
      "\n",
      "In conclusion, the HyperAutomation roadmap for 2025 with AI Agents presents a wealth of opportunities for businesses to transform their operations and drive sustainable growth. By embracing the latest trends, collaborating with key players, and harnessing the power of AI-driven technologies, organizations can unlock new possibilities and create a competitive advantage in the digital era. As we look towards the future, it is clear that HyperAutomation will continue to revolutionize the way businesses operate and pave the way for a more efficient and intelligent workforce.\n",
      "\n",
      "\u001b[00m\n"
     ]
    }
   ],
   "source": [
    "topic = \"HyperAutomation Roadmap for 2025 with AI Agents\"\n",
    "result = crew.kickoff(inputs={\"topic\": topic})"
   ]
  },
  {
   "cell_type": "code",
   "execution_count": 27,
   "metadata": {
    "height": 30
   },
   "outputs": [
    {
     "data": {
      "text/markdown": [
       "# HyperAutomation Roadmap for 2025 with AI Agents\n",
       "\n",
       "In today's rapidly evolving business landscape, the concept of HyperAutomation has emerged as a game-changer for organizations looking to enhance operational efficiency and drive innovation. HyperAutomation refers to the integration of advanced technologies such as artificial intelligence (AI), robotic process automation (RPA), machine learning, and intelligent decision-making to automate complex business processes. This holistic approach not only streamlines operations but also enables businesses to make data-driven decisions at scale. The significance of HyperAutomation lies in its ability to transform traditional workflows and unlock new opportunities for growth and competitiveness.\n",
       "\n",
       "AI Agents play a crucial role in the HyperAutomation ecosystem by acting as intelligent virtual assistants that can perform tasks, make recommendations, and interact with users in a human-like manner. These AI-driven technologies leverage natural language processing, computer vision, and predictive analytics to automate repetitive tasks, optimize workflows, and enhance decision-making processes. By harnessing the power of AI Agents, organizations can achieve greater productivity, accuracy, and agility in their operations.\n",
       "\n",
       "Looking ahead to the HyperAutomation roadmap for 2025, we can expect to see a continued focus on integrating AI-driven technologies into automation processes. The latest trends in HyperAutomation include the adoption of advanced analytics and machine learning algorithms to enable end-to-end process automation and intelligent decision-making. Leading players in the industry, such as UiPath, Automation Anywhere, and IBM Watson, are at the forefront of developing innovative solutions that drive HyperAutomation initiatives and empower businesses to thrive in a digital-first world.\n",
       "\n",
       "As we move towards 2025, businesses can benefit from the latest advancements in HyperAutomation by leveraging intelligent automation strategies, cognitive automation solutions, and RPA trends. With the integration of AI Agents into their workflows, organizations can streamline operations, reduce costs, and accelerate innovation. By staying abreast of industry developments and partnering with key players in the HyperAutomation space, businesses can position themselves for success in an increasingly competitive marketplace.\n",
       "\n",
       "In conclusion, the HyperAutomation roadmap for 2025 with AI Agents presents a wealth of opportunities for businesses to transform their operations and drive sustainable growth. By embracing the latest trends, collaborating with key players, and harnessing the power of AI-driven technologies, organizations can unlock new possibilities and create a competitive advantage in the digital era. As we look towards the future, it is clear that HyperAutomation will continue to revolutionize the way businesses operate and pave the way for a more efficient and intelligent workforce."
      ],
      "text/plain": [
       "<IPython.core.display.Markdown object>"
      ]
     },
     "execution_count": 27,
     "metadata": {},
     "output_type": "execute_result"
    }
   ],
   "source": [
    "Markdown(result)"
   ]
  },
  {
   "cell_type": "markdown",
   "metadata": {},
   "source": [
    "<a name='1'></a>\n",
    " ## Other Popular Models as LLM for your Agents"
   ]
  },
  {
   "cell_type": "markdown",
   "metadata": {},
   "source": [
    "#### Hugging Face (HuggingFaceHub endpoint)\n",
    "\n",
    "```Python\n",
    "from langchain_community.llms import HuggingFaceHub\n",
    "\n",
    "llm = HuggingFaceHub(\n",
    "    repo_id=\"HuggingFaceH4/zephyr-7b-beta\",\n",
    "    huggingfacehub_api_token=\"<HF_TOKEN_HERE>\",\n",
    "    task=\"text-generation\",\n",
    ")\n",
    "\n",
    "### you will pass \"llm\" to your agent function\n",
    "```"
   ]
  },
  {
   "cell_type": "markdown",
   "metadata": {},
   "source": [
    "#### Mistral API\n",
    "\n",
    "```Python\n",
    "OPENAI_API_KEY=your-mistral-api-key\n",
    "OPENAI_API_BASE=https://api.mistral.ai/v1\n",
    "OPENAI_MODEL_NAME=\"mistral-small\"\n",
    "```"
   ]
  },
  {
   "cell_type": "markdown",
   "metadata": {},
   "source": [
    "#### Cohere\n",
    "\n",
    "```Python\n",
    "from langchain_community.chat_models import ChatCohere\n",
    "# Initialize language model\n",
    "os.environ[\"COHERE_API_KEY\"] = \"your-cohere-api-key\"\n",
    "llm = ChatCohere()\n",
    "\n",
    "### you will pass \"llm\" to your agent function\n",
    "```"
   ]
  },
  {
   "cell_type": "markdown",
   "metadata": {},
   "source": [
    "### For using Llama locally with Ollama and more, checkout the crewAI documentation on [Connecting to any LLM](https://docs.crewai.com/how-to/LLM-Connections/)."
   ]
  },
  {
   "cell_type": "code",
   "execution_count": null,
   "metadata": {
    "height": 30
   },
   "outputs": [],
   "source": []
  },
  {
   "cell_type": "code",
   "execution_count": null,
   "metadata": {
    "height": 30
   },
   "outputs": [],
   "source": []
  },
  {
   "cell_type": "code",
   "execution_count": null,
   "metadata": {
    "height": 30
   },
   "outputs": [],
   "source": []
  }
 ],
 "metadata": {
  "colab": {
   "gpuType": "T4",
   "provenance": []
  },
  "kernelspec": {
   "display_name": "Python 3 (ipykernel)",
   "language": "python",
   "name": "python3"
  },
  "language_info": {
   "codemirror_mode": {
    "name": "ipython",
    "version": 3
   },
   "file_extension": ".py",
   "mimetype": "text/x-python",
   "name": "python",
   "nbconvert_exporter": "python",
   "pygments_lexer": "ipython3",
   "version": "3.11.9"
  }
 },
 "nbformat": 4,
 "nbformat_minor": 4
}
